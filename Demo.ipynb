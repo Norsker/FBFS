{
 "metadata": {
  "name": ""
 },
 "nbformat": 3,
 "nbformat_minor": 0,
 "worksheets": [
  {
   "cells": [
    {
     "cell_type": "code",
     "collapsed": false,
     "input": [
      "#I implemented a feature selection method based on Conditional Mutual Information Maximization; in short, "
     ],
     "language": "python",
     "metadata": {},
     "outputs": [],
     "prompt_number": 1
    },
    {
     "cell_type": "code",
     "collapsed": false,
     "input": [
      "import pandas as pd\n"
     ],
     "language": "python",
     "metadata": {},
     "outputs": [],
     "prompt_number": 2
    },
    {
     "cell_type": "code",
     "collapsed": false,
     "input": [
      "Data=pd.read_csv(\"Amazontrain.csv\",nrows=2000)"
     ],
     "language": "python",
     "metadata": {},
     "outputs": [],
     "prompt_number": 3
    },
    {
     "cell_type": "code",
     "collapsed": false,
     "input": [
      "#We want to prediction ACTION, a binary variable.  All features in this dataset are labels.\n",
      "Data"
     ],
     "language": "python",
     "metadata": {},
     "outputs": [
      {
       "html": [
        "<pre>\n",
        "&lt;class 'pandas.core.frame.DataFrame'&gt;\n",
        "Int64Index: 2000 entries, 0 to 1999\n",
        "Data columns (total 10 columns):\n",
        "ACTION              2000  non-null values\n",
        "RESOURCE            2000  non-null values\n",
        "MGR_ID              2000  non-null values\n",
        "ROLE_ROLLUP_1       2000  non-null values\n",
        "ROLE_ROLLUP_2       2000  non-null values\n",
        "ROLE_DEPTNAME       2000  non-null values\n",
        "ROLE_TITLE          2000  non-null values\n",
        "ROLE_FAMILY_DESC    2000  non-null values\n",
        "ROLE_FAMILY         2000  non-null values\n",
        "ROLE_CODE           2000  non-null values\n",
        "dtypes: int64(10)\n",
        "</pre>"
       ],
       "metadata": {},
       "output_type": "pyout",
       "prompt_number": 4,
       "text": [
        "<class 'pandas.core.frame.DataFrame'>\n",
        "Int64Index: 2000 entries, 0 to 1999\n",
        "Data columns (total 10 columns):\n",
        "ACTION              2000  non-null values\n",
        "RESOURCE            2000  non-null values\n",
        "MGR_ID              2000  non-null values\n",
        "ROLE_ROLLUP_1       2000  non-null values\n",
        "ROLE_ROLLUP_2       2000  non-null values\n",
        "ROLE_DEPTNAME       2000  non-null values\n",
        "ROLE_TITLE          2000  non-null values\n",
        "ROLE_FAMILY_DESC    2000  non-null values\n",
        "ROLE_FAMILY         2000  non-null values\n",
        "ROLE_CODE           2000  non-null values\n",
        "dtypes: int64(10)"
       ]
      }
     ],
     "prompt_number": 4
    },
    {
     "cell_type": "code",
     "collapsed": false,
     "input": [
      "from sklearn.preprocessing import LabelBinarizer\n",
      "LB=LabelBinarizer()"
     ],
     "language": "python",
     "metadata": {},
     "outputs": [],
     "prompt_number": 5
    },
    {
     "cell_type": "code",
     "collapsed": false,
     "input": [
      "#Convert labels into algorithm-compatible format\n",
      "RESOURCE=LB.fit_transform(Data['RESOURCE'])\n",
      "print RESOURCE.shape\n",
      "RESOURCE"
     ],
     "language": "python",
     "metadata": {},
     "outputs": [
      {
       "output_type": "stream",
       "stream": "stdout",
       "text": [
        "(2000, 1183)\n"
       ]
      },
      {
       "metadata": {},
       "output_type": "pyout",
       "prompt_number": 6,
       "text": [
        "array([[0, 0, 0, ..., 0, 0, 0],\n",
        "       [0, 0, 0, ..., 0, 0, 0],\n",
        "       [0, 0, 0, ..., 0, 0, 0],\n",
        "       ..., \n",
        "       [0, 0, 0, ..., 0, 0, 0],\n",
        "       [0, 0, 0, ..., 0, 0, 0],\n",
        "       [0, 0, 0, ..., 0, 0, 0]])"
       ]
      }
     ],
     "prompt_number": 6
    },
    {
     "cell_type": "code",
     "collapsed": false,
     "input": [
      "from CMIM import CMIM"
     ],
     "language": "python",
     "metadata": {},
     "outputs": [],
     "prompt_number": 7
    },
    {
     "cell_type": "code",
     "collapsed": false,
     "input": [
      "#fit estimator\n",
      "Filter=CMIM()\n",
      "Filter.fit(RESOURCE,Data['ACTION'])"
     ],
     "language": "python",
     "metadata": {},
     "outputs": [],
     "prompt_number": 8
    },
    {
     "cell_type": "code",
     "collapsed": false,
     "input": [
      "#see how many features we selected\n",
      "len(Filter.selected_index)"
     ],
     "language": "python",
     "metadata": {},
     "outputs": [
      {
       "metadata": {},
       "output_type": "pyout",
       "prompt_number": 9,
       "text": [
        "333"
       ]
      }
     ],
     "prompt_number": 9
    },
    {
     "cell_type": "code",
     "collapsed": false,
     "input": [
      "#remove uninformative columns\n",
      "print RESOURCE.shape\n",
      "Filter.transform(RESOURCE).shape"
     ],
     "language": "python",
     "metadata": {},
     "outputs": [
      {
       "output_type": "stream",
       "stream": "stdout",
       "text": [
        "(2000, 1183)\n"
       ]
      },
      {
       "metadata": {},
       "output_type": "pyout",
       "prompt_number": 10,
       "text": [
        "(2000, 333)"
       ]
      }
     ],
     "prompt_number": 10
    },
    {
     "cell_type": "code",
     "collapsed": false,
     "input": [
      "#model can be stored\n",
      "from sklearn.externals import joblib\n",
      "joblib.dump(Filter,'filter.pkl')\n",
      "S_Filter=joblib.load('filter.pkl')\n",
      "S_Filter.transform(RESOURCE).shape"
     ],
     "language": "python",
     "metadata": {},
     "outputs": [
      {
       "metadata": {},
       "output_type": "pyout",
       "prompt_number": 11,
       "text": [
        "(2000, 333)"
       ]
      }
     ],
     "prompt_number": 11
    },
    {
     "cell_type": "code",
     "collapsed": false,
     "input": [
      "#Also handles sparse input,albeit at a substantial speed reduction(Note-currently assumed csc, as this is the format scikit's feature extraction methods give output in:\n",
      "from scipy.sparse import csc_matrix\n",
      "SPARSE_RESOURCE=csc_matrix(RESOURCE)\n",
      "Sparse_Filter=CMIM()\n",
      "Sparse_Filter.fit_transform(SPARSE_RESOURCE,Data['ACTION']).shape"
     ],
     "language": "python",
     "metadata": {},
     "outputs": [
      {
       "metadata": {},
       "output_type": "pyout",
       "prompt_number": 12,
       "text": [
        "(2000, 333)"
       ]
      }
     ],
     "prompt_number": 12
    },
    {
     "cell_type": "code",
     "collapsed": false,
     "input": [
      "#Works with pipeline. Unfortunately, in the case of LabelBinarizer(), scikit doesn't like the that LabelBinarizer() fits only X, while CMIM fits X,y.  \n",
      "#This doesn't seem to be a problem with text extraction methods that only fit X, however.   \n",
      "from sklearn.pipeline import Pipeline,FeatureUnion\n",
      "from sklearn.linear_model import LogisticRegression\n",
      "CLF=LogisticRegression()\n",
      "Filter=CMIM()\n",
      "Estimators=[('CMIM',Filter),('Logistic Regression', CLF)]\n",
      "chain=Pipeline(Estimators)\n",
      "chain.fit(RESOURCE,Data['ACTION'])\n",
      "print len(CLF.coef_[0])"
     ],
     "language": "python",
     "metadata": {},
     "outputs": [
      {
       "output_type": "stream",
       "stream": "stdout",
       "text": [
        "333\n"
       ]
      }
     ],
     "prompt_number": 13
    },
    {
     "cell_type": "code",
     "collapsed": false,
     "input": [],
     "language": "python",
     "metadata": {},
     "outputs": [],
     "prompt_number": 13
    }
   ],
   "metadata": {}
  }
 ]
}